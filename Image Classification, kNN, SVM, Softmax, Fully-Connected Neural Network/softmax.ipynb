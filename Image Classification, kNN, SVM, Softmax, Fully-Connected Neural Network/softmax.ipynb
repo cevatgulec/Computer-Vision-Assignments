{
 "cells": [
  {
   "cell_type": "markdown",
   "metadata": {
    "tags": [
     "pdf-title"
    ]
   },
   "source": [
    "# Softmax exercise\n",
    "\n",
    "*Complete and hand in this completed worksheet (including its outputs and any supporting code outside of the worksheet) with your assignment submission. For more details see the course website.*\n",
    "\n",
    "This exercise is analogous to the SVM exercise. You will:\n",
    "\n",
    "- implement a fully-vectorized **loss function** for the Softmax classifier\n",
    "- implement the fully-vectorized expression for its **analytic gradient**\n",
    "- **check your implementation** with numerical gradient\n",
    "- use a validation set to **tune the learning rate and regularization** strengths\n",
    "- **optimize** the loss function with **SGD**\n",
    "- **visualize** the final learned weights\n"
   ]
  },
  {
   "cell_type": "code",
   "execution_count": 1,
   "metadata": {
    "tags": [
     "pdf-ignore"
    ]
   },
   "outputs": [],
   "source": [
    "import random\n",
    "import numpy as np\n",
    "from comp411.data_utils import load_CIFAR10\n",
    "import matplotlib.pyplot as plt\n",
    "\n",
    "%matplotlib inline\n",
    "plt.rcParams['figure.figsize'] = (10.0, 8.0) # set default size of plots\n",
    "plt.rcParams['image.interpolation'] = 'nearest'\n",
    "plt.rcParams['image.cmap'] = 'gray'\n",
    "\n",
    "# for auto-reloading extenrnal modules\n",
    "# see http://stackoverflow.com/questions/1907993/autoreload-of-modules-in-ipython\n",
    "%load_ext autoreload\n",
    "%autoreload 2"
   ]
  },
  {
   "cell_type": "code",
   "execution_count": 2,
   "metadata": {
    "tags": [
     "pdf-ignore"
    ]
   },
   "outputs": [
    {
     "name": "stdout",
     "output_type": "stream",
     "text": [
      "Train data shape:  (49000, 3073)\n",
      "Train labels shape:  (49000,)\n",
      "Validation data shape:  (1000, 3073)\n",
      "Validation labels shape:  (1000,)\n",
      "Test data shape:  (1000, 3073)\n",
      "Test labels shape:  (1000,)\n",
      "dev data shape:  (500, 3073)\n",
      "dev labels shape:  (500,)\n"
     ]
    }
   ],
   "source": [
    "def get_CIFAR10_data(num_training=49000, num_validation=1000, num_test=1000, num_dev=500):\n",
    "    \"\"\"\n",
    "    Load the CIFAR-10 dataset from disk and perform preprocessing to prepare\n",
    "    it for the linear classifier. These are the same steps as we used for the\n",
    "    SVM, but condensed to a single function.  \n",
    "    \"\"\"\n",
    "    # Load the raw CIFAR-10 data\n",
    "    cifar10_dir = 'comp411/datasets/cifar-10-batches-py'\n",
    "    \n",
    "    # Cleaning up variables to prevent loading data multiple times (which may cause memory issue)\n",
    "    try:\n",
    "       del X_train, y_train\n",
    "       del X_test, y_test\n",
    "       print('Clear previously loaded data.')\n",
    "    except:\n",
    "       pass\n",
    "\n",
    "    X_train, y_train, X_test, y_test = load_CIFAR10(cifar10_dir)\n",
    "    \n",
    "    # subsample the data\n",
    "    mask = list(range(num_training, num_training + num_validation))\n",
    "    X_val = X_train[mask]\n",
    "    y_val = y_train[mask]\n",
    "    mask = list(range(num_training))\n",
    "    X_train = X_train[mask]\n",
    "    y_train = y_train[mask]\n",
    "    mask = list(range(num_test))\n",
    "    X_test = X_test[mask]\n",
    "    y_test = y_test[mask]\n",
    "    mask = np.random.choice(num_training, num_dev, replace=False)\n",
    "    X_dev = X_train[mask]\n",
    "    y_dev = y_train[mask]\n",
    "    \n",
    "    # Preprocessing: reshape the image data into rows\n",
    "    X_train = np.reshape(X_train, (X_train.shape[0], -1))\n",
    "    X_val = np.reshape(X_val, (X_val.shape[0], -1))\n",
    "    X_test = np.reshape(X_test, (X_test.shape[0], -1))\n",
    "    X_dev = np.reshape(X_dev, (X_dev.shape[0], -1))\n",
    "    \n",
    "    # Normalize the data: subtract the mean image\n",
    "    mean_image = np.mean(X_train, axis = 0)\n",
    "    X_train -= mean_image\n",
    "    X_val -= mean_image\n",
    "    X_test -= mean_image\n",
    "    X_dev -= mean_image\n",
    "    \n",
    "    # add bias dimension and transform into columns\n",
    "    X_train = np.hstack([X_train, np.ones((X_train.shape[0], 1))])\n",
    "    X_val = np.hstack([X_val, np.ones((X_val.shape[0], 1))])\n",
    "    X_test = np.hstack([X_test, np.ones((X_test.shape[0], 1))])\n",
    "    X_dev = np.hstack([X_dev, np.ones((X_dev.shape[0], 1))])\n",
    "    \n",
    "    return X_train, y_train, X_val, y_val, X_test, y_test, X_dev, y_dev\n",
    "\n",
    "\n",
    "# Invoke the above function to get our data.\n",
    "X_train, y_train, X_val, y_val, X_test, y_test, X_dev, y_dev = get_CIFAR10_data()\n",
    "print('Train data shape: ', X_train.shape)\n",
    "print('Train labels shape: ', y_train.shape)\n",
    "print('Validation data shape: ', X_val.shape)\n",
    "print('Validation labels shape: ', y_val.shape)\n",
    "print('Test data shape: ', X_test.shape)\n",
    "print('Test labels shape: ', y_test.shape)\n",
    "print('dev data shape: ', X_dev.shape)\n",
    "print('dev labels shape: ', y_dev.shape)"
   ]
  },
  {
   "cell_type": "markdown",
   "metadata": {},
   "source": [
    "## Softmax Classifier\n",
    "\n",
    "Your code for this section will all be written inside **comp411/classifiers/softmax.py**. \n"
   ]
  },
  {
   "cell_type": "code",
   "execution_count": 3,
   "metadata": {},
   "outputs": [
    {
     "name": "stdout",
     "output_type": "stream",
     "text": [
      "loss: 2.335253\n",
      "sanity check: 2.302585\n"
     ]
    }
   ],
   "source": [
    "# First implement the naive softmax loss function with nested loops.\n",
    "# Open the file comp411/classifiers/softmax.py and implement the\n",
    "# softmax_loss_naive function.\n",
    "\n",
    "from comp411.classifiers.softmax import softmax_loss_naive\n",
    "import time\n",
    "\n",
    "# Generate a random softmax weight matrix and use it to compute the loss.\n",
    "W = np.random.randn(3073, 10) * 0.0001\n",
    "loss, grad = softmax_loss_naive(W, X_dev, y_dev, 0.0, 0.0)\n",
    "\n",
    "# As a rough sanity check, our loss should be something close to -log(0.1).\n",
    "print('loss: %f' % loss)\n",
    "print('sanity check: %f' % (-np.log(0.1)))"
   ]
  },
  {
   "cell_type": "markdown",
   "metadata": {
    "tags": [
     "pdf-inline"
    ]
   },
   "source": [
    "**Inline Question 1**\n",
    "\n",
    "Why do we expect our loss to be close to -log(0.1)? Explain briefly.**\n",
    "\n",
    "$\\color{blue}{\\textit Your Answer:}$ On the above code, it is just calculating the softmax based on randomly initialized weights for 10 classes on the dataset. Since softmax loss is a measure of negative log probability of the correct class, it is expected that the inside of the probability term would be 1/10 = 0.1\n",
    "\n"
   ]
  },
  {
   "cell_type": "code",
   "execution_count": 4,
   "metadata": {},
   "outputs": [
    {
     "name": "stdout",
     "output_type": "stream",
     "text": [
      "numerical: 2.573050 analytic: 2.573050, relative error: 2.171608e-08\n",
      "numerical: -2.938543 analytic: -2.938543, relative error: 1.029993e-08\n",
      "numerical: -1.615934 analytic: -1.615934, relative error: 2.130658e-08\n",
      "numerical: -3.514303 analytic: -3.514303, relative error: 1.857765e-08\n",
      "numerical: -4.002231 analytic: -4.002231, relative error: 9.312753e-09\n",
      "numerical: -3.186169 analytic: -3.186169, relative error: 3.326918e-08\n",
      "numerical: 0.598931 analytic: 0.598930, relative error: 4.136307e-08\n",
      "numerical: 0.974705 analytic: 0.974705, relative error: 5.613865e-08\n",
      "numerical: -0.022665 analytic: -0.022665, relative error: 7.701932e-07\n",
      "numerical: -3.309280 analytic: -3.309281, relative error: 2.885917e-08\n",
      "numerical: -50.532296 analytic: -50.532296, relative error: 1.213528e-10\n",
      "numerical: 6.857430 analytic: 46.355571, relative error: 7.422649e-01\n",
      "numerical: -46.859884 analytic: -46.859884, relative error: 8.150333e-10\n",
      "numerical: -49.180992 analytic: -49.180992, relative error: 8.328811e-10\n",
      "numerical: -50.781730 analytic: -50.781730, relative error: 4.067578e-10\n",
      "numerical: -47.257330 analytic: -47.257330, relative error: 6.515073e-10\n",
      "numerical: 0.795088 analytic: 47.057147, relative error: 9.667690e-01\n",
      "numerical: 50.227964 analytic: 50.227964, relative error: 1.137512e-09\n",
      "numerical: 52.151576 analytic: 52.151576, relative error: 5.386325e-10\n",
      "numerical: 51.693421 analytic: 51.693421, relative error: 1.486484e-09\n"
     ]
    }
   ],
   "source": [
    "# Complete the implementation of softmax_loss_naive and implement a (naive)\n",
    "# version of the gradient that uses nested loops.\n",
    "loss, grad = softmax_loss_naive(W, X_dev, y_dev, 0.0, 0.0)\n",
    "\n",
    "# As we did for the SVM, use numeric gradient checking as a debugging tool.\n",
    "# The numeric gradient should be close to the analytic gradient.\n",
    "from comp411.gradient_check import grad_check_sparse\n",
    "f = lambda w: softmax_loss_naive(w, X_dev, y_dev, 0.0, 0.0)[0]\n",
    "grad_numerical = grad_check_sparse(f, W, grad, 10)\n",
    "\n",
    "# similar to SVM case, do another gradient check with regularizations\n",
    "loss, grad = softmax_loss_naive(W, X_dev, y_dev, 5e1, 5e1)\n",
    "f = lambda w: softmax_loss_naive(w, X_dev, y_dev, 5e1, 5e1)[0]\n",
    "grad_numerical = grad_check_sparse(f, W, grad, 10)"
   ]
  },
  {
   "cell_type": "code",
   "execution_count": 5,
   "metadata": {},
   "outputs": [
    {
     "name": "stdout",
     "output_type": "stream",
     "text": [
      "naive loss: 2.335265e+00 computed in 0.086867s\n",
      "vectorized loss: 2.335265e+00 computed in 0.005771s\n",
      "Loss difference: 0.000000\n",
      "Gradient difference: 0.000876\n"
     ]
    }
   ],
   "source": [
    "# Now that we have a naive implementation of the softmax loss function and its gradient,\n",
    "# implement a vectorized version in softmax_loss_vectorized.\n",
    "# The two versions should compute the same results, but the vectorized version should be\n",
    "# much faster.\n",
    "tic = time.time()\n",
    "loss_naive, grad_naive = softmax_loss_naive(W, X_dev, y_dev, 0.000005, 0.000005)\n",
    "toc = time.time()\n",
    "print('naive loss: %e computed in %fs' % (loss_naive, toc - tic))\n",
    "\n",
    "from comp411.classifiers.softmax import softmax_loss_vectorized\n",
    "tic = time.time()\n",
    "loss_vectorized, grad_vectorized = softmax_loss_vectorized(W, X_dev, y_dev, 0.000005, 0.000005)\n",
    "toc = time.time()\n",
    "print('vectorized loss: %e computed in %fs' % (loss_vectorized, toc - tic))\n",
    "\n",
    "# As we did for the SVM, we use the Frobenius norm to compare the two versions\n",
    "# of the gradient.\n",
    "grad_difference = np.linalg.norm(grad_naive - grad_vectorized, ord='fro')\n",
    "print('Loss difference: %f' % np.abs(loss_naive - loss_vectorized))\n",
    "print('Gradient difference: %f' % grad_difference)"
   ]
  },
  {
   "cell_type": "code",
   "execution_count": 6,
   "metadata": {
    "tags": [
     "code"
    ]
   },
   "outputs": [
    {
     "name": "stdout",
     "output_type": "stream",
     "text": [
      "lr 1.000000e-07 rg_l2 1.000000e+04 rg_l1 0.000000e+00 train accuracy: 0.241041 val accuracy: 0.250000\n",
      "lr 1.000000e-07 rg_l2 1.000000e+04 rg_l1 2.500000e+02 train accuracy: 0.258694 val accuracy: 0.275000\n",
      "lr 1.000000e-07 rg_l2 1.000000e+04 rg_l1 5.000000e+02 train accuracy: 0.250980 val accuracy: 0.245000\n",
      "lr 1.000000e-07 rg_l2 1.000000e+04 rg_l1 7.500000e+02 train accuracy: 0.253653 val accuracy: 0.251000\n",
      "lr 1.000000e-07 rg_l2 2.000000e+04 rg_l1 0.000000e+00 train accuracy: 0.297510 val accuracy: 0.336000\n",
      "lr 1.000000e-07 rg_l2 2.000000e+04 rg_l1 2.500000e+02 train accuracy: 0.296592 val accuracy: 0.313000\n",
      "lr 1.000000e-07 rg_l2 2.000000e+04 rg_l1 5.000000e+02 train accuracy: 0.295102 val accuracy: 0.302000\n",
      "lr 1.000000e-07 rg_l2 2.000000e+04 rg_l1 7.500000e+02 train accuracy: 0.297653 val accuracy: 0.324000\n",
      "lr 1.000000e-07 rg_l2 3.000000e+04 rg_l1 0.000000e+00 train accuracy: 0.317347 val accuracy: 0.329000\n",
      "lr 1.000000e-07 rg_l2 3.000000e+04 rg_l1 2.500000e+02 train accuracy: 0.315122 val accuracy: 0.326000\n",
      "lr 1.000000e-07 rg_l2 3.000000e+04 rg_l1 5.000000e+02 train accuracy: 0.313469 val accuracy: 0.318000\n",
      "lr 1.000000e-07 rg_l2 3.000000e+04 rg_l1 7.500000e+02 train accuracy: 0.317857 val accuracy: 0.319000\n",
      "lr 1.000000e-07 rg_l2 4.000000e+04 rg_l1 0.000000e+00 train accuracy: 0.314714 val accuracy: 0.327000\n",
      "lr 1.000000e-07 rg_l2 4.000000e+04 rg_l1 2.500000e+02 train accuracy: 0.313408 val accuracy: 0.319000\n",
      "lr 1.000000e-07 rg_l2 4.000000e+04 rg_l1 5.000000e+02 train accuracy: 0.311408 val accuracy: 0.325000\n",
      "lr 1.000000e-07 rg_l2 4.000000e+04 rg_l1 7.500000e+02 train accuracy: 0.308429 val accuracy: 0.323000\n",
      "lr 1.000000e-07 rg_l2 5.000000e+04 rg_l1 0.000000e+00 train accuracy: 0.306143 val accuracy: 0.323000\n",
      "lr 1.000000e-07 rg_l2 5.000000e+04 rg_l1 2.500000e+02 train accuracy: 0.314612 val accuracy: 0.323000\n",
      "lr 1.000000e-07 rg_l2 5.000000e+04 rg_l1 5.000000e+02 train accuracy: 0.309306 val accuracy: 0.321000\n",
      "lr 1.000000e-07 rg_l2 5.000000e+04 rg_l1 7.500000e+02 train accuracy: 0.305041 val accuracy: 0.320000\n",
      "lr 5.000000e-07 rg_l2 1.000000e+04 rg_l1 0.000000e+00 train accuracy: 0.354633 val accuracy: 0.359000\n",
      "lr 5.000000e-07 rg_l2 1.000000e+04 rg_l1 2.500000e+02 train accuracy: 0.345061 val accuracy: 0.357000\n",
      "lr 5.000000e-07 rg_l2 1.000000e+04 rg_l1 5.000000e+02 train accuracy: 0.358551 val accuracy: 0.368000\n",
      "lr 5.000000e-07 rg_l2 1.000000e+04 rg_l1 7.500000e+02 train accuracy: 0.354143 val accuracy: 0.364000\n",
      "lr 5.000000e-07 rg_l2 2.000000e+04 rg_l1 0.000000e+00 train accuracy: 0.335143 val accuracy: 0.358000\n",
      "lr 5.000000e-07 rg_l2 2.000000e+04 rg_l1 2.500000e+02 train accuracy: 0.340449 val accuracy: 0.340000\n",
      "lr 5.000000e-07 rg_l2 2.000000e+04 rg_l1 5.000000e+02 train accuracy: 0.331878 val accuracy: 0.353000\n",
      "lr 5.000000e-07 rg_l2 2.000000e+04 rg_l1 7.500000e+02 train accuracy: 0.327490 val accuracy: 0.347000\n",
      "lr 5.000000e-07 rg_l2 3.000000e+04 rg_l1 0.000000e+00 train accuracy: 0.310245 val accuracy: 0.323000\n",
      "lr 5.000000e-07 rg_l2 3.000000e+04 rg_l1 2.500000e+02 train accuracy: 0.315245 val accuracy: 0.327000\n",
      "lr 5.000000e-07 rg_l2 3.000000e+04 rg_l1 5.000000e+02 train accuracy: 0.311612 val accuracy: 0.328000\n",
      "lr 5.000000e-07 rg_l2 3.000000e+04 rg_l1 7.500000e+02 train accuracy: 0.310714 val accuracy: 0.326000\n",
      "lr 5.000000e-07 rg_l2 4.000000e+04 rg_l1 0.000000e+00 train accuracy: 0.296265 val accuracy: 0.311000\n",
      "lr 5.000000e-07 rg_l2 4.000000e+04 rg_l1 2.500000e+02 train accuracy: 0.316714 val accuracy: 0.329000\n",
      "lr 5.000000e-07 rg_l2 4.000000e+04 rg_l1 5.000000e+02 train accuracy: 0.322143 val accuracy: 0.338000\n",
      "lr 5.000000e-07 rg_l2 4.000000e+04 rg_l1 7.500000e+02 train accuracy: 0.303878 val accuracy: 0.314000\n",
      "lr 5.000000e-07 rg_l2 5.000000e+04 rg_l1 0.000000e+00 train accuracy: 0.309551 val accuracy: 0.335000\n",
      "lr 5.000000e-07 rg_l2 5.000000e+04 rg_l1 2.500000e+02 train accuracy: 0.305653 val accuracy: 0.318000\n",
      "lr 5.000000e-07 rg_l2 5.000000e+04 rg_l1 5.000000e+02 train accuracy: 0.311429 val accuracy: 0.325000\n",
      "lr 5.000000e-07 rg_l2 5.000000e+04 rg_l1 7.500000e+02 train accuracy: 0.293531 val accuracy: 0.305000\n",
      "lr 1.000000e-06 rg_l2 1.000000e+04 rg_l1 0.000000e+00 train accuracy: 0.343306 val accuracy: 0.351000\n",
      "lr 1.000000e-06 rg_l2 1.000000e+04 rg_l1 2.500000e+02 train accuracy: 0.346000 val accuracy: 0.363000\n",
      "lr 1.000000e-06 rg_l2 1.000000e+04 rg_l1 5.000000e+02 train accuracy: 0.349204 val accuracy: 0.363000\n",
      "lr 1.000000e-06 rg_l2 1.000000e+04 rg_l1 7.500000e+02 train accuracy: 0.350837 val accuracy: 0.378000\n",
      "lr 1.000000e-06 rg_l2 2.000000e+04 rg_l1 0.000000e+00 train accuracy: 0.333980 val accuracy: 0.340000\n",
      "lr 1.000000e-06 rg_l2 2.000000e+04 rg_l1 2.500000e+02 train accuracy: 0.337102 val accuracy: 0.326000\n",
      "lr 1.000000e-06 rg_l2 2.000000e+04 rg_l1 5.000000e+02 train accuracy: 0.326347 val accuracy: 0.337000\n",
      "lr 1.000000e-06 rg_l2 2.000000e+04 rg_l1 7.500000e+02 train accuracy: 0.329245 val accuracy: 0.348000\n",
      "lr 1.000000e-06 rg_l2 3.000000e+04 rg_l1 0.000000e+00 train accuracy: 0.315143 val accuracy: 0.328000\n",
      "lr 1.000000e-06 rg_l2 3.000000e+04 rg_l1 2.500000e+02 train accuracy: 0.316286 val accuracy: 0.332000\n",
      "lr 1.000000e-06 rg_l2 3.000000e+04 rg_l1 5.000000e+02 train accuracy: 0.315286 val accuracy: 0.316000\n",
      "lr 1.000000e-06 rg_l2 3.000000e+04 rg_l1 7.500000e+02 train accuracy: 0.324571 val accuracy: 0.339000\n",
      "lr 1.000000e-06 rg_l2 4.000000e+04 rg_l1 0.000000e+00 train accuracy: 0.300796 val accuracy: 0.293000\n",
      "lr 1.000000e-06 rg_l2 4.000000e+04 rg_l1 2.500000e+02 train accuracy: 0.302878 val accuracy: 0.320000\n",
      "lr 1.000000e-06 rg_l2 4.000000e+04 rg_l1 5.000000e+02 train accuracy: 0.310020 val accuracy: 0.327000\n",
      "lr 1.000000e-06 rg_l2 4.000000e+04 rg_l1 7.500000e+02 train accuracy: 0.296612 val accuracy: 0.313000\n",
      "lr 1.000000e-06 rg_l2 5.000000e+04 rg_l1 0.000000e+00 train accuracy: 0.289551 val accuracy: 0.310000\n",
      "lr 1.000000e-06 rg_l2 5.000000e+04 rg_l1 2.500000e+02 train accuracy: 0.287673 val accuracy: 0.313000\n",
      "lr 1.000000e-06 rg_l2 5.000000e+04 rg_l1 5.000000e+02 train accuracy: 0.291061 val accuracy: 0.307000\n",
      "lr 1.000000e-06 rg_l2 5.000000e+04 rg_l1 7.500000e+02 train accuracy: 0.296816 val accuracy: 0.308000\n",
      "lr 5.000000e-06 rg_l2 1.000000e+04 rg_l1 0.000000e+00 train accuracy: 0.258122 val accuracy: 0.268000\n",
      "lr 5.000000e-06 rg_l2 1.000000e+04 rg_l1 2.500000e+02 train accuracy: 0.296000 val accuracy: 0.297000\n",
      "lr 5.000000e-06 rg_l2 1.000000e+04 rg_l1 5.000000e+02 train accuracy: 0.291184 val accuracy: 0.299000\n",
      "lr 5.000000e-06 rg_l2 1.000000e+04 rg_l1 7.500000e+02 train accuracy: 0.296673 val accuracy: 0.307000\n",
      "lr 5.000000e-06 rg_l2 2.000000e+04 rg_l1 0.000000e+00 train accuracy: 0.173510 val accuracy: 0.183000\n",
      "lr 5.000000e-06 rg_l2 2.000000e+04 rg_l1 2.500000e+02 train accuracy: 0.273020 val accuracy: 0.288000\n",
      "lr 5.000000e-06 rg_l2 2.000000e+04 rg_l1 5.000000e+02 train accuracy: 0.196673 val accuracy: 0.209000\n",
      "lr 5.000000e-06 rg_l2 2.000000e+04 rg_l1 7.500000e+02 train accuracy: 0.244184 val accuracy: 0.268000\n",
      "lr 5.000000e-06 rg_l2 3.000000e+04 rg_l1 0.000000e+00 train accuracy: 0.207082 val accuracy: 0.225000\n",
      "lr 5.000000e-06 rg_l2 3.000000e+04 rg_l1 2.500000e+02 train accuracy: 0.189735 val accuracy: 0.190000\n",
      "lr 5.000000e-06 rg_l2 3.000000e+04 rg_l1 5.000000e+02 train accuracy: 0.187673 val accuracy: 0.183000\n",
      "lr 5.000000e-06 rg_l2 3.000000e+04 rg_l1 7.500000e+02 train accuracy: 0.160327 val accuracy: 0.163000\n",
      "lr 5.000000e-06 rg_l2 4.000000e+04 rg_l1 0.000000e+00 train accuracy: 0.176959 val accuracy: 0.190000\n",
      "lr 5.000000e-06 rg_l2 4.000000e+04 rg_l1 2.500000e+02 train accuracy: 0.156000 val accuracy: 0.164000\n",
      "lr 5.000000e-06 rg_l2 4.000000e+04 rg_l1 5.000000e+02 train accuracy: 0.163000 val accuracy: 0.178000\n",
      "lr 5.000000e-06 rg_l2 4.000000e+04 rg_l1 7.500000e+02 train accuracy: 0.183020 val accuracy: 0.182000\n",
      "lr 5.000000e-06 rg_l2 5.000000e+04 rg_l1 0.000000e+00 train accuracy: 0.178776 val accuracy: 0.169000\n",
      "lr 5.000000e-06 rg_l2 5.000000e+04 rg_l1 2.500000e+02 train accuracy: 0.148551 val accuracy: 0.142000\n",
      "lr 5.000000e-06 rg_l2 5.000000e+04 rg_l1 5.000000e+02 train accuracy: 0.165714 val accuracy: 0.173000\n",
      "lr 5.000000e-06 rg_l2 5.000000e+04 rg_l1 7.500000e+02 train accuracy: 0.135347 val accuracy: 0.122000\n",
      "lr 1.000000e-05 rg_l2 1.000000e+04 rg_l1 0.000000e+00 train accuracy: 0.195204 val accuracy: 0.189000\n",
      "lr 1.000000e-05 rg_l2 1.000000e+04 rg_l1 2.500000e+02 train accuracy: 0.170184 val accuracy: 0.184000\n",
      "lr 1.000000e-05 rg_l2 1.000000e+04 rg_l1 5.000000e+02 train accuracy: 0.114020 val accuracy: 0.099000\n",
      "lr 1.000000e-05 rg_l2 1.000000e+04 rg_l1 7.500000e+02 train accuracy: 0.176694 val accuracy: 0.169000\n",
      "lr 1.000000e-05 rg_l2 2.000000e+04 rg_l1 0.000000e+00 train accuracy: 0.100510 val accuracy: 0.103000\n",
      "lr 1.000000e-05 rg_l2 2.000000e+04 rg_l1 2.500000e+02 train accuracy: 0.126327 val accuracy: 0.131000\n",
      "lr 1.000000e-05 rg_l2 2.000000e+04 rg_l1 5.000000e+02 train accuracy: 0.138347 val accuracy: 0.121000\n",
      "lr 1.000000e-05 rg_l2 2.000000e+04 rg_l1 7.500000e+02 train accuracy: 0.125408 val accuracy: 0.139000\n",
      "lr 1.000000e-05 rg_l2 3.000000e+04 rg_l1 0.000000e+00 train accuracy: 0.106020 val accuracy: 0.094000\n",
      "lr 1.000000e-05 rg_l2 3.000000e+04 rg_l1 2.500000e+02 train accuracy: 0.080000 val accuracy: 0.075000\n",
      "lr 1.000000e-05 rg_l2 3.000000e+04 rg_l1 5.000000e+02 train accuracy: 0.087245 val accuracy: 0.094000\n",
      "lr 1.000000e-05 rg_l2 3.000000e+04 rg_l1 7.500000e+02 train accuracy: 0.123163 val accuracy: 0.114000\n",
      "lr 1.000000e-05 rg_l2 4.000000e+04 rg_l1 0.000000e+00 train accuracy: 0.097531 val accuracy: 0.095000\n",
      "lr 1.000000e-05 rg_l2 4.000000e+04 rg_l1 2.500000e+02 train accuracy: 0.104837 val accuracy: 0.108000\n",
      "lr 1.000000e-05 rg_l2 4.000000e+04 rg_l1 5.000000e+02 train accuracy: 0.113816 val accuracy: 0.125000\n",
      "lr 1.000000e-05 rg_l2 4.000000e+04 rg_l1 7.500000e+02 train accuracy: 0.109510 val accuracy: 0.115000\n",
      "lr 1.000000e-05 rg_l2 5.000000e+04 rg_l1 0.000000e+00 train accuracy: 0.072184 val accuracy: 0.065000\n",
      "lr 1.000000e-05 rg_l2 5.000000e+04 rg_l1 2.500000e+02 train accuracy: 0.081041 val accuracy: 0.078000\n",
      "lr 1.000000e-05 rg_l2 5.000000e+04 rg_l1 5.000000e+02 train accuracy: 0.064980 val accuracy: 0.055000\n",
      "lr 1.000000e-05 rg_l2 5.000000e+04 rg_l1 7.500000e+02 train accuracy: 0.117163 val accuracy: 0.116000\n",
      "best validation accuracy achieved during cross-validation: 0.378000\n"
     ]
    }
   ],
   "source": [
    "# Use the validation set to tune hyperparameters (regularization strength and\n",
    "# learning rate). You should experiment with different ranges for the learning\n",
    "# rates and regularization strengths; if you are careful you should be able to\n",
    "# get a classification accuracy of over 0.35 on the validation set.\n",
    "from comp411.classifiers import Softmax\n",
    "results = {}\n",
    "best_val = -1\n",
    "best_softmax = None\n",
    "\n",
    "################################################################################\n",
    "# TODO:                                                                        #\n",
    "# Use the validation set to set the learning rate and regularization strength. #\n",
    "# This should be similar to the validation that you did for the SVM; save      #\n",
    "# the best trained softmax classifer in best_softmax.                          #\n",
    "################################################################################\n",
    "\n",
    "# Provided as a reference. You may or may not want to change these hyperparameters\n",
    "learning_rates = [1e-7, 5e-7,1e-6,5e-6,1e-5]\n",
    "regularization_strengths_l2 = [1e4,2e4,3e4,4e4,5e4]\n",
    "regularization_strengths_l1 = [0, 2.5e2, 5e2, 7.5e2]\n",
    "\n",
    "#learning_rates = [1e-7, 5e-7]\n",
    "#regularization_strengths_l2 = [2.5e4, 5e4]\n",
    "#regularization_strengths_l1 = [0, 2.5e2, 5e2]\n",
    "\n",
    "# *****START OF YOUR CODE (DO NOT DELETE/MODIFY THIS LINE)*****\n",
    "\n",
    "for learning_rate in learning_rates:\n",
    "    for r_l2 in regularization_strengths_l2:\n",
    "        for r_l1 in regularization_strengths_l1:\n",
    "            classifier = Softmax()\n",
    "            classifier.train(X=X_train,y=y_train,learning_rate=learning_rate,reg=r_l2,reg_l1=r_l1,num_iters=500)\n",
    "\n",
    "            validation_y_pred = classifier.predict(X_val)\n",
    "            validation_num_correct = np.sum(validation_y_pred == y_val)\n",
    "            validation_accuracy = float(validation_num_correct) / len(validation_y_pred)\n",
    "\n",
    "            y_train_pred = classifier.predict(X_train)\n",
    "            training_num_correct = np.sum(y_train_pred == y_train)\n",
    "            training_accuracy = float(training_num_correct) / len(y_train_pred)\n",
    "\n",
    "            results[(learning_rate,r_l2,r_l1)] = (training_accuracy,validation_accuracy)\n",
    "\n",
    "            if best_val < validation_accuracy:\n",
    "                best_val = validation_accuracy\n",
    "                best_softmax = classifier\n",
    "\n",
    "# *****END OF YOUR CODE (DO NOT DELETE/MODIFY THIS LINE)*****\n",
    "    \n",
    "# Print out results.\n",
    "for lr, rg_l2, rg_l1 in sorted(results):\n",
    "    train_accuracy, val_accuracy = results[(lr, rg_l2,rg_l1)]\n",
    "    print('lr %e rg_l2 %e rg_l1 %e train accuracy: %f val accuracy: %f' % (\n",
    "                lr, rg_l2, rg_l1, train_accuracy, val_accuracy))\n",
    "    \n",
    "print('best validation accuracy achieved during cross-validation: %f' % best_val)"
   ]
  },
  {
   "cell_type": "code",
   "execution_count": 8,
   "metadata": {},
   "outputs": [
    {
     "name": "stdout",
     "output_type": "stream",
     "text": [
      "softmax on raw pixels final test set accuracy: 0.374000\n"
     ]
    }
   ],
   "source": [
    "# evaluate on test set\n",
    "# Evaluate the best softmax on test set\n",
    "y_test_pred = best_softmax.predict(X_test)\n",
    "test_accuracy = np.mean(y_test == y_test_pred)\n",
    "print('softmax on raw pixels final test set accuracy: %f' % (test_accuracy, ))"
   ]
  },
  {
   "cell_type": "markdown",
   "metadata": {
    "tags": [
     "pdf-inline"
    ]
   },
   "source": [
    "**Inline Question 2** - *True or False*\n",
    "\n",
    "Suppose the overall training loss is defined as the sum of the per-datapoint loss over all training examples. It is possible to add a new datapoint to a training set that would leave the SVM loss unchanged, but this is not the case with the Softmax classifier loss.\n",
    "\n",
    "$\\color{blue}{\\textit Your Answer:}$ True\n",
    "\n",
    "\n",
    "$\\color{blue}{\\textit Your Explanation:}$ In the SVM, if the new data point's score difference between correct class and wrong classes exceed the margin, the overall training loss would not change since the new addition of the loss would be 0. But in the softmax, because of the normalization process and the loss via considering all the individual scores calculated relative to each other as probabilities"
   ]
  },
  {
   "cell_type": "markdown",
   "metadata": {},
   "source": [
    "**Inline Question 3** \n",
    "\n",
    "Comment on the effects of unifying L1 and L2 losses while using Elastic Net Regularization Loss? Did L2 loss achieve better when used alone or not?\n",
    "\n",
    "$\\color{blue}{\\textit Your Comment:}$ L2 loss achieved better when used alone. Combination of L1 and L2 decreased the overall performance of both train and validation accuracy, in my case. L2 loss only acheived performances around 30-40 percent while using them together decreased the training and validation accuracy to around 05-15 percent."
   ]
  },
  {
   "cell_type": "code",
   "execution_count": 9,
   "metadata": {},
   "outputs": [
    {
     "data": {
      "image/png": "[encoded data removed]",
      "text/plain": [
       "<Figure size 432x288 with 10 Axes>"
      ]
     },
     "metadata": {
      "needs_background": "light"
     },
     "output_type": "display_data"
    }
   ],
   "source": [
    "# Visualize the learned weights for each class\n",
    "w = best_softmax.W[:-1,:] # strip out the bias\n",
    "w = w.reshape(32, 32, 3, 10)\n",
    "\n",
    "w_min, w_max = np.min(w), np.max(w)\n",
    "\n",
    "classes = ['plane', 'car', 'bird', 'cat', 'deer', 'dog', 'frog', 'horse', 'ship', 'truck']\n",
    "for i in range(10):\n",
    "    plt.subplot(2, 5, i + 1)\n",
    "    \n",
    "    # Rescale the weights to be between 0 and 255\n",
    "    wimg = 255.0 * (w[:, :, :, i].squeeze() - w_min) / (w_max - w_min)\n",
    "    plt.imshow(wimg.astype('uint8'))\n",
    "    plt.axis('off')\n",
    "    plt.title(classes[i])"
   ]
  },
  {
   "cell_type": "code",
   "execution_count": null,
   "metadata": {},
   "outputs": [],
   "source": []
  },
  {
   "cell_type": "code",
   "execution_count": null,
   "metadata": {},
   "outputs": [],
   "source": []
  },
  {
   "cell_type": "code",
   "execution_count": null,
   "metadata": {},
   "outputs": [],
   "source": []
  },
  {
   "cell_type": "code",
   "execution_count": null,
   "metadata": {},
   "outputs": [],
   "source": []
  }
 ],
 "metadata": {
  "kernelspec": {
   "display_name": "Python 3",
   "language": "python",
   "name": "python3"
  },
  "language_info": {
   "codemirror_mode": {
    "name": "ipython",
    "version": 3
   },
   "file_extension": ".py",
   "mimetype": "text/x-python",
   "name": "python",
   "nbconvert_exporter": "python",
   "pygments_lexer": "ipython3",
   "version": "3.7.10"
  },
  "vscode": {
   "interpreter": {
    "hash": "d04c3052f9c378d380e52a871bf20ff97eacb9709927d1e0f094a56294893059"
   }
  }
 },
 "nbformat": 4,
 "nbformat_minor": 4
}
